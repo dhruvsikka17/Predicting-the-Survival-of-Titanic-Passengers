{
 "cells": [
  {
   "cell_type": "code",
   "execution_count": 1,
   "id": "e7bb383f",
   "metadata": {
    "_cell_guid": "b1076dfc-b9ad-4769-8c92-a6c4dae69d19",
    "_uuid": "8f2839f25d086af736a60e9eeb907d3b93b6e0e5",
    "execution": {
     "iopub.execute_input": "2022-01-17T02:29:39.030351Z",
     "iopub.status.busy": "2022-01-17T02:29:39.029696Z",
     "iopub.status.idle": "2022-01-17T02:29:40.229266Z",
     "shell.execute_reply": "2022-01-17T02:29:40.228521Z",
     "shell.execute_reply.started": "2022-01-17T02:28:48.894715Z"
    },
    "papermill": {
     "duration": 1.23604,
     "end_time": "2022-01-17T02:29:40.229429",
     "exception": false,
     "start_time": "2022-01-17T02:29:38.993389",
     "status": "completed"
    },
    "tags": []
   },
   "outputs": [],
   "source": [
    "import numpy as np \n",
    "import pandas as pd \n",
    "import seaborn as sns\n",
    "%matplotlib inline\n",
    "from matplotlib import pyplot as plt\n",
    "from matplotlib import style\n",
    "\n",
    "from sklearn import linear_model\n",
    "from sklearn.linear_model import LogisticRegression\n",
    "from sklearn.ensemble import RandomForestClassifier\n",
    "from sklearn.tree import DecisionTreeClassifier\n",
    "from sklearn.neighbors import KNeighborsClassifier\n",
    "from sklearn.naive_bayes import GaussianNB"
   ]
  },
  {
   "cell_type": "code",
   "execution_count": 2,
   "id": "a54a17aa",
   "metadata": {
    "execution": {
     "iopub.execute_input": "2022-01-17T02:29:40.282142Z",
     "iopub.status.busy": "2022-01-17T02:29:40.281506Z",
     "iopub.status.idle": "2022-01-17T02:29:40.310089Z",
     "shell.execute_reply": "2022-01-17T02:29:40.309471Z",
     "shell.execute_reply.started": "2022-01-17T02:28:50.318482Z"
    },
    "papermill": {
     "duration": 0.056887,
     "end_time": "2022-01-17T02:29:40.310232",
     "exception": false,
     "start_time": "2022-01-17T02:29:40.253345",
     "status": "completed"
    },
    "tags": []
   },
   "outputs": [],
   "source": [
    "train_df = pd.read_csv('/kaggle/input/titanic/train.csv')\n",
    "test_df = pd.read_csv(\"/kaggle/input/titanic/test.csv\")"
   ]
  },
  {
   "cell_type": "code",
   "execution_count": 3,
   "id": "29ab1731",
   "metadata": {
    "execution": {
     "iopub.execute_input": "2022-01-17T02:29:40.378339Z",
     "iopub.status.busy": "2022-01-17T02:29:40.377683Z",
     "iopub.status.idle": "2022-01-17T02:29:40.382393Z",
     "shell.execute_reply": "2022-01-17T02:29:40.381865Z",
     "shell.execute_reply.started": "2022-01-17T02:28:50.350651Z"
    },
    "papermill": {
     "duration": 0.048635,
     "end_time": "2022-01-17T02:29:40.382517",
     "exception": false,
     "start_time": "2022-01-17T02:29:40.333882",
     "status": "completed"
    },
    "tags": []
   },
   "outputs": [
    {
     "name": "stdout",
     "output_type": "stream",
     "text": [
      "<class 'pandas.core.frame.DataFrame'>\n",
      "RangeIndex: 891 entries, 0 to 890\n",
      "Data columns (total 12 columns):\n",
      " #   Column       Non-Null Count  Dtype  \n",
      "---  ------       --------------  -----  \n",
      " 0   PassengerId  891 non-null    int64  \n",
      " 1   Survived     891 non-null    int64  \n",
      " 2   Pclass       891 non-null    int64  \n",
      " 3   Name         891 non-null    object \n",
      " 4   Sex          891 non-null    object \n",
      " 5   Age          714 non-null    float64\n",
      " 6   SibSp        891 non-null    int64  \n",
      " 7   Parch        891 non-null    int64  \n",
      " 8   Ticket       891 non-null    object \n",
      " 9   Fare         891 non-null    float64\n",
      " 10  Cabin        204 non-null    object \n",
      " 11  Embarked     889 non-null    object \n",
      "dtypes: float64(2), int64(5), object(5)\n",
      "memory usage: 83.7+ KB\n"
     ]
    }
   ],
   "source": [
    "train_df.info()"
   ]
  },
  {
   "cell_type": "code",
   "execution_count": 4,
   "id": "4914dc62",
   "metadata": {
    "execution": {
     "iopub.execute_input": "2022-01-17T02:29:40.437568Z",
     "iopub.status.busy": "2022-01-17T02:29:40.436964Z",
     "iopub.status.idle": "2022-01-17T02:29:40.453742Z",
     "shell.execute_reply": "2022-01-17T02:29:40.453229Z",
     "shell.execute_reply.started": "2022-01-17T02:28:50.380054Z"
    },
    "papermill": {
     "duration": 0.046507,
     "end_time": "2022-01-17T02:29:40.453889",
     "exception": false,
     "start_time": "2022-01-17T02:29:40.407382",
     "status": "completed"
    },
    "tags": []
   },
   "outputs": [
    {
     "data": {
      "text/html": [
       "<div>\n",
       "<style scoped>\n",
       "    .dataframe tbody tr th:only-of-type {\n",
       "        vertical-align: middle;\n",
       "    }\n",
       "\n",
       "    .dataframe tbody tr th {\n",
       "        vertical-align: top;\n",
       "    }\n",
       "\n",
       "    .dataframe thead th {\n",
       "        text-align: right;\n",
       "    }\n",
       "</style>\n",
       "<table border=\"1\" class=\"dataframe\">\n",
       "  <thead>\n",
       "    <tr style=\"text-align: right;\">\n",
       "      <th></th>\n",
       "      <th>PassengerId</th>\n",
       "      <th>Survived</th>\n",
       "      <th>Pclass</th>\n",
       "      <th>Name</th>\n",
       "      <th>Sex</th>\n",
       "      <th>Age</th>\n",
       "      <th>SibSp</th>\n",
       "      <th>Parch</th>\n",
       "      <th>Ticket</th>\n",
       "      <th>Fare</th>\n",
       "      <th>Cabin</th>\n",
       "      <th>Embarked</th>\n",
       "    </tr>\n",
       "  </thead>\n",
       "  <tbody>\n",
       "    <tr>\n",
       "      <th>0</th>\n",
       "      <td>1</td>\n",
       "      <td>0</td>\n",
       "      <td>3</td>\n",
       "      <td>Braund, Mr. Owen Harris</td>\n",
       "      <td>male</td>\n",
       "      <td>22.0</td>\n",
       "      <td>1</td>\n",
       "      <td>0</td>\n",
       "      <td>A/5 21171</td>\n",
       "      <td>7.2500</td>\n",
       "      <td>NaN</td>\n",
       "      <td>S</td>\n",
       "    </tr>\n",
       "    <tr>\n",
       "      <th>1</th>\n",
       "      <td>2</td>\n",
       "      <td>1</td>\n",
       "      <td>1</td>\n",
       "      <td>Cumings, Mrs. John Bradley (Florence Briggs Th...</td>\n",
       "      <td>female</td>\n",
       "      <td>38.0</td>\n",
       "      <td>1</td>\n",
       "      <td>0</td>\n",
       "      <td>PC 17599</td>\n",
       "      <td>71.2833</td>\n",
       "      <td>C85</td>\n",
       "      <td>C</td>\n",
       "    </tr>\n",
       "    <tr>\n",
       "      <th>2</th>\n",
       "      <td>3</td>\n",
       "      <td>1</td>\n",
       "      <td>3</td>\n",
       "      <td>Heikkinen, Miss. Laina</td>\n",
       "      <td>female</td>\n",
       "      <td>26.0</td>\n",
       "      <td>0</td>\n",
       "      <td>0</td>\n",
       "      <td>STON/O2. 3101282</td>\n",
       "      <td>7.9250</td>\n",
       "      <td>NaN</td>\n",
       "      <td>S</td>\n",
       "    </tr>\n",
       "    <tr>\n",
       "      <th>3</th>\n",
       "      <td>4</td>\n",
       "      <td>1</td>\n",
       "      <td>1</td>\n",
       "      <td>Futrelle, Mrs. Jacques Heath (Lily May Peel)</td>\n",
       "      <td>female</td>\n",
       "      <td>35.0</td>\n",
       "      <td>1</td>\n",
       "      <td>0</td>\n",
       "      <td>113803</td>\n",
       "      <td>53.1000</td>\n",
       "      <td>C123</td>\n",
       "      <td>S</td>\n",
       "    </tr>\n",
       "    <tr>\n",
       "      <th>4</th>\n",
       "      <td>5</td>\n",
       "      <td>0</td>\n",
       "      <td>3</td>\n",
       "      <td>Allen, Mr. William Henry</td>\n",
       "      <td>male</td>\n",
       "      <td>35.0</td>\n",
       "      <td>0</td>\n",
       "      <td>0</td>\n",
       "      <td>373450</td>\n",
       "      <td>8.0500</td>\n",
       "      <td>NaN</td>\n",
       "      <td>S</td>\n",
       "    </tr>\n",
       "  </tbody>\n",
       "</table>\n",
       "</div>"
      ],
      "text/plain": [
       "   PassengerId  Survived  Pclass  \\\n",
       "0            1         0       3   \n",
       "1            2         1       1   \n",
       "2            3         1       3   \n",
       "3            4         1       1   \n",
       "4            5         0       3   \n",
       "\n",
       "                                                Name     Sex   Age  SibSp  \\\n",
       "0                            Braund, Mr. Owen Harris    male  22.0      1   \n",
       "1  Cumings, Mrs. John Bradley (Florence Briggs Th...  female  38.0      1   \n",
       "2                             Heikkinen, Miss. Laina  female  26.0      0   \n",
       "3       Futrelle, Mrs. Jacques Heath (Lily May Peel)  female  35.0      1   \n",
       "4                           Allen, Mr. William Henry    male  35.0      0   \n",
       "\n",
       "   Parch            Ticket     Fare Cabin Embarked  \n",
       "0      0         A/5 21171   7.2500   NaN        S  \n",
       "1      0          PC 17599  71.2833   C85        C  \n",
       "2      0  STON/O2. 3101282   7.9250   NaN        S  \n",
       "3      0            113803  53.1000  C123        S  \n",
       "4      0            373450   8.0500   NaN        S  "
      ]
     },
     "execution_count": 4,
     "metadata": {},
     "output_type": "execute_result"
    }
   ],
   "source": [
    "train_df.head(5)"
   ]
  },
  {
   "cell_type": "code",
   "execution_count": 5,
   "id": "49a9ce12",
   "metadata": {
    "execution": {
     "iopub.execute_input": "2022-01-17T02:29:40.515630Z",
     "iopub.status.busy": "2022-01-17T02:29:40.513435Z",
     "iopub.status.idle": "2022-01-17T02:29:41.295806Z",
     "shell.execute_reply": "2022-01-17T02:29:41.296448Z",
     "shell.execute_reply.started": "2022-01-17T02:28:50.407272Z"
    },
    "papermill": {
     "duration": 0.818289,
     "end_time": "2022-01-17T02:29:41.296628",
     "exception": false,
     "start_time": "2022-01-17T02:29:40.478339",
     "status": "completed"
    },
    "tags": []
   },
   "outputs": [
    {
     "data": {
      "image/png": "[encoded data removed]",
      "text/plain": [
       "<Figure size 720x288 with 2 Axes>"
      ]
     },
     "metadata": {
      "needs_background": "light"
     },
     "output_type": "display_data"
    }
   ],
   "source": [
    "survived = 'survived'\n",
    "not_survived = 'not survived'\n",
    "fig, axes = plt.subplots(nrows=1, ncols=2,figsize=(10, 4))\n",
    "women = train_df[train_df['Sex']=='female']\n",
    "men = train_df[train_df['Sex']=='male']\n",
    "ax = sns.histplot(women[women['Survived']==1].Age.dropna(), bins=18, label = survived, ax = axes[0], kde =False)\n",
    "ax = sns.histplot(women[women['Survived']==0].Age.dropna(), bins=40, label = not_survived, ax = axes[0], kde =False,color='red')\n",
    "ax.legend()\n",
    "ax.set_title('Female')\n",
    "ax = sns.histplot(men[men['Survived']==1].Age.dropna(), bins=18, label = survived, ax = axes[1], kde = False)\n",
    "ax = sns.histplot(men[men['Survived']==0].Age.dropna(), bins=40, label = not_survived, ax = axes[1], kde = False,color='red',alpha=0.3)\n",
    "ax.legend()\n",
    "_ = ax.set_title('Male')"
   ]
  },
  {
   "cell_type": "code",
   "execution_count": 6,
   "id": "d8862066",
   "metadata": {
    "execution": {
     "iopub.execute_input": "2022-01-17T02:29:41.353736Z",
     "iopub.status.busy": "2022-01-17T02:29:41.353194Z",
     "iopub.status.idle": "2022-01-17T02:29:42.905451Z",
     "shell.execute_reply": "2022-01-17T02:29:42.906006Z",
     "shell.execute_reply.started": "2022-01-17T02:28:51.214691Z"
    },
    "papermill": {
     "duration": 1.580606,
     "end_time": "2022-01-17T02:29:42.906187",
     "exception": false,
     "start_time": "2022-01-17T02:29:41.325581",
     "status": "completed"
    },
    "tags": []
   },
   "outputs": [
    {
     "data": {
      "image/png": "[encoded data removed]",
      "text/plain": [
       "<Figure size 514.88x475.2 with 6 Axes>"
      ]
     },
     "metadata": {
      "needs_background": "light"
     },
     "output_type": "display_data"
    }
   ],
   "source": [
    "grid = sns.FacetGrid(train_df, col='Survived', row='Pclass', height=2.2, aspect=1.6)\n",
    "grid.map(plt.hist, 'Age', alpha=.5, bins=20)\n",
    "grid.add_legend();"
   ]
  },
  {
   "cell_type": "code",
   "execution_count": 7,
   "id": "98a6880d",
   "metadata": {
    "execution": {
     "iopub.execute_input": "2022-01-17T02:29:42.965393Z",
     "iopub.status.busy": "2022-01-17T02:29:42.964394Z",
     "iopub.status.idle": "2022-01-17T02:29:42.967660Z",
     "shell.execute_reply": "2022-01-17T02:29:42.968204Z",
     "shell.execute_reply.started": "2022-01-17T02:28:52.935326Z"
    },
    "papermill": {
     "duration": 0.035129,
     "end_time": "2022-01-17T02:29:42.968355",
     "exception": false,
     "start_time": "2022-01-17T02:29:42.933226",
     "status": "completed"
    },
    "tags": []
   },
   "outputs": [],
   "source": [
    "common_value = 'S'\n",
    "data = [train_df, test_df]\n",
    "\n",
    "for dataset in data:\n",
    "    dataset['Embarked'] = dataset['Embarked'].fillna(common_value)"
   ]
  },
  {
   "cell_type": "code",
   "execution_count": 8,
   "id": "c4b9a386",
   "metadata": {
    "execution": {
     "iopub.execute_input": "2022-01-17T02:29:43.027158Z",
     "iopub.status.busy": "2022-01-17T02:29:43.026196Z",
     "iopub.status.idle": "2022-01-17T02:29:43.040602Z",
     "shell.execute_reply": "2022-01-17T02:29:43.041184Z",
     "shell.execute_reply.started": "2022-01-17T02:28:52.942872Z"
    },
    "papermill": {
     "duration": 0.04613,
     "end_time": "2022-01-17T02:29:43.041340",
     "exception": false,
     "start_time": "2022-01-17T02:29:42.995210",
     "status": "completed"
    },
    "tags": []
   },
   "outputs": [
    {
     "data": {
      "text/plain": [
       "0"
      ]
     },
     "execution_count": 8,
     "metadata": {},
     "output_type": "execute_result"
    }
   ],
   "source": [
    "data = [train_df, test_df]\n",
    "\n",
    "for dataset in data:\n",
    "    mean = train_df[\"Age\"].mean()\n",
    "    std = test_df[\"Age\"].std()\n",
    "    is_null = dataset[\"Age\"].isnull().sum()\n",
    "    rand_age = np.random.randint(mean - std, mean + std, size = is_null)\n",
    "    age_slice = dataset[\"Age\"].copy()\n",
    "    age_slice[np.isnan(age_slice)] = rand_age\n",
    "    dataset[\"Age\"] = age_slice\n",
    "    dataset[\"Age\"] = train_df[\"Age\"].astype(int)\n",
    "train_df[\"Age\"].isnull().sum()"
   ]
  },
  {
   "cell_type": "code",
   "execution_count": 9,
   "id": "84061fc9",
   "metadata": {
    "execution": {
     "iopub.execute_input": "2022-01-17T02:29:43.103968Z",
     "iopub.status.busy": "2022-01-17T02:29:43.103226Z",
     "iopub.status.idle": "2022-01-17T02:29:43.104578Z",
     "shell.execute_reply": "2022-01-17T02:29:43.105103Z",
     "shell.execute_reply.started": "2022-01-17T02:28:52.968082Z"
    },
    "papermill": {
     "duration": 0.036372,
     "end_time": "2022-01-17T02:29:43.105253",
     "exception": false,
     "start_time": "2022-01-17T02:29:43.068881",
     "status": "completed"
    },
    "tags": []
   },
   "outputs": [],
   "source": [
    "data = [train_df, test_df]\n",
    "\n",
    "for dataset in data:\n",
    "    dataset['Fare'] = dataset['Fare'].fillna(0)\n",
    "    dataset['Fare'] = dataset['Fare'].astype(int)"
   ]
  },
  {
   "cell_type": "code",
   "execution_count": 10,
   "id": "be274dc8",
   "metadata": {
    "execution": {
     "iopub.execute_input": "2022-01-17T02:29:43.161668Z",
     "iopub.status.busy": "2022-01-17T02:29:43.161036Z",
     "iopub.status.idle": "2022-01-17T02:29:43.166901Z",
     "shell.execute_reply": "2022-01-17T02:29:43.167351Z",
     "shell.execute_reply.started": "2022-01-17T02:28:52.988742Z"
    },
    "papermill": {
     "duration": 0.035415,
     "end_time": "2022-01-17T02:29:43.167517",
     "exception": false,
     "start_time": "2022-01-17T02:29:43.132102",
     "status": "completed"
    },
    "tags": []
   },
   "outputs": [],
   "source": [
    "train_df = train_df.drop(labels=['PassengerId','Cabin','Name','Ticket'], axis=1)\n",
    "test_df = test_df.drop(labels=['Cabin','Name','Ticket'], axis=1)"
   ]
  },
  {
   "cell_type": "code",
   "execution_count": 11,
   "id": "f6714a43",
   "metadata": {
    "execution": {
     "iopub.execute_input": "2022-01-17T02:29:43.224485Z",
     "iopub.status.busy": "2022-01-17T02:29:43.223567Z",
     "iopub.status.idle": "2022-01-17T02:29:43.230131Z",
     "shell.execute_reply": "2022-01-17T02:29:43.230699Z",
     "shell.execute_reply.started": "2022-01-17T02:28:53.005293Z"
    },
    "papermill": {
     "duration": 0.036722,
     "end_time": "2022-01-17T02:29:43.230868",
     "exception": false,
     "start_time": "2022-01-17T02:29:43.194146",
     "status": "completed"
    },
    "tags": []
   },
   "outputs": [],
   "source": [
    "genders = {\"male\": 0, \"female\": 1}\n",
    "data = [train_df, test_df]\n",
    "\n",
    "for dataset in data:\n",
    "    dataset['Sex'] = dataset['Sex'].map(genders)"
   ]
  },
  {
   "cell_type": "code",
   "execution_count": 12,
   "id": "20d95c41",
   "metadata": {
    "execution": {
     "iopub.execute_input": "2022-01-17T02:29:43.288541Z",
     "iopub.status.busy": "2022-01-17T02:29:43.287636Z",
     "iopub.status.idle": "2022-01-17T02:29:43.298361Z",
     "shell.execute_reply": "2022-01-17T02:29:43.298855Z",
     "shell.execute_reply.started": "2022-01-17T02:28:53.020754Z"
    },
    "papermill": {
     "duration": 0.04086,
     "end_time": "2022-01-17T02:29:43.299016",
     "exception": false,
     "start_time": "2022-01-17T02:29:43.258156",
     "status": "completed"
    },
    "tags": []
   },
   "outputs": [
    {
     "name": "stdout",
     "output_type": "stream",
     "text": [
      "<class 'pandas.core.frame.DataFrame'>\n",
      "RangeIndex: 418 entries, 0 to 417\n",
      "Data columns (total 8 columns):\n",
      " #   Column       Non-Null Count  Dtype \n",
      "---  ------       --------------  ----- \n",
      " 0   PassengerId  418 non-null    int64 \n",
      " 1   Pclass       418 non-null    int64 \n",
      " 2   Sex          418 non-null    int64 \n",
      " 3   Age          418 non-null    int64 \n",
      " 4   SibSp        418 non-null    int64 \n",
      " 5   Parch        418 non-null    int64 \n",
      " 6   Fare         418 non-null    int64 \n",
      " 7   Embarked     418 non-null    object\n",
      "dtypes: int64(7), object(1)\n",
      "memory usage: 26.2+ KB\n"
     ]
    }
   ],
   "source": [
    "test_df.info()"
   ]
  },
  {
   "cell_type": "code",
   "execution_count": 13,
   "id": "6d20aa98",
   "metadata": {
    "execution": {
     "iopub.execute_input": "2022-01-17T02:29:43.357530Z",
     "iopub.status.busy": "2022-01-17T02:29:43.356960Z",
     "iopub.status.idle": "2022-01-17T02:29:43.367012Z",
     "shell.execute_reply": "2022-01-17T02:29:43.367478Z",
     "shell.execute_reply.started": "2022-01-17T02:28:53.040740Z"
    },
    "papermill": {
     "duration": 0.040405,
     "end_time": "2022-01-17T02:29:43.367631",
     "exception": false,
     "start_time": "2022-01-17T02:29:43.327226",
     "status": "completed"
    },
    "tags": []
   },
   "outputs": [
    {
     "name": "stdout",
     "output_type": "stream",
     "text": [
      "<class 'pandas.core.frame.DataFrame'>\n",
      "RangeIndex: 891 entries, 0 to 890\n",
      "Data columns (total 8 columns):\n",
      " #   Column    Non-Null Count  Dtype \n",
      "---  ------    --------------  ----- \n",
      " 0   Survived  891 non-null    int64 \n",
      " 1   Pclass    891 non-null    int64 \n",
      " 2   Sex       891 non-null    int64 \n",
      " 3   Age       891 non-null    int64 \n",
      " 4   SibSp     891 non-null    int64 \n",
      " 5   Parch     891 non-null    int64 \n",
      " 6   Fare      891 non-null    int64 \n",
      " 7   Embarked  891 non-null    object\n",
      "dtypes: int64(7), object(1)\n",
      "memory usage: 55.8+ KB\n"
     ]
    }
   ],
   "source": [
    "train_df.info()"
   ]
  },
  {
   "cell_type": "code",
   "execution_count": 14,
   "id": "76b8701c",
   "metadata": {
    "execution": {
     "iopub.execute_input": "2022-01-17T02:29:43.425258Z",
     "iopub.status.busy": "2022-01-17T02:29:43.424644Z",
     "iopub.status.idle": "2022-01-17T02:29:43.430445Z",
     "shell.execute_reply": "2022-01-17T02:29:43.430927Z",
     "shell.execute_reply.started": "2022-01-17T02:28:53.060845Z"
    },
    "papermill": {
     "duration": 0.035602,
     "end_time": "2022-01-17T02:29:43.431074",
     "exception": false,
     "start_time": "2022-01-17T02:29:43.395472",
     "status": "completed"
    },
    "tags": []
   },
   "outputs": [],
   "source": [
    "ports = {\"S\": 0, \"C\": 1, \"Q\": 2}\n",
    "data = [train_df, test_df]\n",
    "\n",
    "for dataset in data:\n",
    "    dataset['Embarked'] = dataset['Embarked'].map(ports)"
   ]
  },
  {
   "cell_type": "code",
   "execution_count": 15,
   "id": "ec121119",
   "metadata": {
    "execution": {
     "iopub.execute_input": "2022-01-17T02:29:43.487846Z",
     "iopub.status.busy": "2022-01-17T02:29:43.487196Z",
     "iopub.status.idle": "2022-01-17T02:29:43.493414Z",
     "shell.execute_reply": "2022-01-17T02:29:43.492855Z",
     "shell.execute_reply.started": "2022-01-17T02:28:53.073497Z"
    },
    "papermill": {
     "duration": 0.035813,
     "end_time": "2022-01-17T02:29:43.493552",
     "exception": false,
     "start_time": "2022-01-17T02:29:43.457739",
     "status": "completed"
    },
    "tags": []
   },
   "outputs": [],
   "source": [
    "X_train = train_df.drop(\"Survived\", axis=1)\n",
    "Y_train = train_df[\"Survived\"]\n",
    "X_test  = test_df.drop(\"PassengerId\", axis=1).copy()"
   ]
  },
  {
   "cell_type": "code",
   "execution_count": 16,
   "id": "b5ffc045",
   "metadata": {
    "execution": {
     "iopub.execute_input": "2022-01-17T02:29:43.555430Z",
     "iopub.status.busy": "2022-01-17T02:29:43.554813Z",
     "iopub.status.idle": "2022-01-17T02:29:43.836984Z",
     "shell.execute_reply": "2022-01-17T02:29:43.837475Z",
     "shell.execute_reply.started": "2022-01-17T02:28:53.087121Z"
    },
    "papermill": {
     "duration": 0.316569,
     "end_time": "2022-01-17T02:29:43.837628",
     "exception": false,
     "start_time": "2022-01-17T02:29:43.521059",
     "status": "completed"
    },
    "tags": []
   },
   "outputs": [],
   "source": [
    "random_forest = RandomForestClassifier(n_estimators=100)\n",
    "random_forest.fit(X_train, Y_train)\n",
    "\n",
    "Y_prediction = random_forest.predict(X_test)\n",
    "\n",
    "random_forest.score(X_train, Y_train)\n",
    "acc_random_forest = round(random_forest.score(X_train, Y_train) * 100, 2)"
   ]
  },
  {
   "cell_type": "code",
   "execution_count": 17,
   "id": "5fb459e9",
   "metadata": {
    "execution": {
     "iopub.execute_input": "2022-01-17T02:29:43.897703Z",
     "iopub.status.busy": "2022-01-17T02:29:43.897141Z",
     "iopub.status.idle": "2022-01-17T02:29:43.926086Z",
     "shell.execute_reply": "2022-01-17T02:29:43.925493Z",
     "shell.execute_reply.started": "2022-01-17T02:28:53.434489Z"
    },
    "papermill": {
     "duration": 0.061777,
     "end_time": "2022-01-17T02:29:43.926250",
     "exception": false,
     "start_time": "2022-01-17T02:29:43.864473",
     "status": "completed"
    },
    "tags": []
   },
   "outputs": [],
   "source": [
    "logreg = LogisticRegression(solver='newton-cg')\n",
    "logreg.fit(X_train, Y_train)\n",
    "\n",
    "Y_pred = logreg.predict(X_test)\n",
    "\n",
    "acc_log = round(logreg.score(X_train, Y_train) * 100, 2)"
   ]
  },
  {
   "cell_type": "code",
   "execution_count": 18,
   "id": "c009f462",
   "metadata": {
    "execution": {
     "iopub.execute_input": "2022-01-17T02:29:43.984209Z",
     "iopub.status.busy": "2022-01-17T02:29:43.983309Z",
     "iopub.status.idle": "2022-01-17T02:29:44.040951Z",
     "shell.execute_reply": "2022-01-17T02:29:44.041397Z",
     "shell.execute_reply.started": "2022-01-17T02:28:53.476241Z"
    },
    "papermill": {
     "duration": 0.087873,
     "end_time": "2022-01-17T02:29:44.041591",
     "exception": false,
     "start_time": "2022-01-17T02:29:43.953718",
     "status": "completed"
    },
    "tags": []
   },
   "outputs": [],
   "source": [
    "knn = KNeighborsClassifier(n_neighbors = 3) \n",
    "knn.fit(X_train, Y_train)  \n",
    "Y_pred = knn.predict(X_test)  \n",
    "acc_knn = round(knn.score(X_train, Y_train) * 100, 2)"
   ]
  },
  {
   "cell_type": "code",
   "execution_count": 19,
   "id": "da1750e1",
   "metadata": {
    "execution": {
     "iopub.execute_input": "2022-01-17T02:29:44.099755Z",
     "iopub.status.busy": "2022-01-17T02:29:44.099158Z",
     "iopub.status.idle": "2022-01-17T02:29:44.111190Z",
     "shell.execute_reply": "2022-01-17T02:29:44.110635Z",
     "shell.execute_reply.started": "2022-01-17T02:28:53.545626Z"
    },
    "papermill": {
     "duration": 0.04279,
     "end_time": "2022-01-17T02:29:44.111335",
     "exception": false,
     "start_time": "2022-01-17T02:29:44.068545",
     "status": "completed"
    },
    "tags": []
   },
   "outputs": [
    {
     "data": {
      "text/plain": [
       "79.35"
      ]
     },
     "execution_count": 19,
     "metadata": {},
     "output_type": "execute_result"
    }
   ],
   "source": [
    "gaussian = GaussianNB()\n",
    "gaussian.fit(X_train, Y_train)  \n",
    "Y_pred = gaussian.predict(X_test)\n",
    "acc_gaussian = round(gaussian.score(X_train, Y_train) * 100, 2)\n",
    "acc_gaussian"
   ]
  },
  {
   "cell_type": "code",
   "execution_count": 20,
   "id": "3fcdd9a4",
   "metadata": {
    "execution": {
     "iopub.execute_input": "2022-01-17T02:29:44.169434Z",
     "iopub.status.busy": "2022-01-17T02:29:44.168515Z",
     "iopub.status.idle": "2022-01-17T02:29:44.181258Z",
     "shell.execute_reply": "2022-01-17T02:29:44.181762Z",
     "shell.execute_reply.started": "2022-01-17T02:28:53.566021Z"
    },
    "papermill": {
     "duration": 0.043515,
     "end_time": "2022-01-17T02:29:44.181933",
     "exception": false,
     "start_time": "2022-01-17T02:29:44.138418",
     "status": "completed"
    },
    "tags": []
   },
   "outputs": [
    {
     "data": {
      "text/plain": [
       "96.3"
      ]
     },
     "execution_count": 20,
     "metadata": {},
     "output_type": "execute_result"
    }
   ],
   "source": [
    "decision_tree = DecisionTreeClassifier()\n",
    "decision_tree.fit(X_train, Y_train)\n",
    "Y_pred = decision_tree.predict(X_test)\n",
    "acc_decision_tree = round(decision_tree.score(X_train, Y_train) * 100, 2)\n",
    "acc_decision_tree"
   ]
  },
  {
   "cell_type": "code",
   "execution_count": 21,
   "id": "c0eb1cda",
   "metadata": {
    "execution": {
     "iopub.execute_input": "2022-01-17T02:29:44.242196Z",
     "iopub.status.busy": "2022-01-17T02:29:44.241264Z",
     "iopub.status.idle": "2022-01-17T02:29:44.253162Z",
     "shell.execute_reply": "2022-01-17T02:29:44.253691Z",
     "shell.execute_reply.started": "2022-01-17T02:28:53.584976Z"
    },
    "papermill": {
     "duration": 0.04402,
     "end_time": "2022-01-17T02:29:44.253861",
     "exception": false,
     "start_time": "2022-01-17T02:29:44.209841",
     "status": "completed"
    },
    "tags": []
   },
   "outputs": [
    {
     "data": {
      "text/html": [
       "<div>\n",
       "<style scoped>\n",
       "    .dataframe tbody tr th:only-of-type {\n",
       "        vertical-align: middle;\n",
       "    }\n",
       "\n",
       "    .dataframe tbody tr th {\n",
       "        vertical-align: top;\n",
       "    }\n",
       "\n",
       "    .dataframe thead th {\n",
       "        text-align: right;\n",
       "    }\n",
       "</style>\n",
       "<table border=\"1\" class=\"dataframe\">\n",
       "  <thead>\n",
       "    <tr style=\"text-align: right;\">\n",
       "      <th></th>\n",
       "      <th>Model</th>\n",
       "    </tr>\n",
       "    <tr>\n",
       "      <th>Score</th>\n",
       "      <th></th>\n",
       "    </tr>\n",
       "  </thead>\n",
       "  <tbody>\n",
       "    <tr>\n",
       "      <th>96.30</th>\n",
       "      <td>Random Forest</td>\n",
       "    </tr>\n",
       "    <tr>\n",
       "      <th>96.30</th>\n",
       "      <td>Decision Tree</td>\n",
       "    </tr>\n",
       "    <tr>\n",
       "      <th>82.15</th>\n",
       "      <td>KNN</td>\n",
       "    </tr>\n",
       "    <tr>\n",
       "      <th>79.91</th>\n",
       "      <td>Logistic Regression</td>\n",
       "    </tr>\n",
       "    <tr>\n",
       "      <th>79.35</th>\n",
       "      <td>Naive Bayes</td>\n",
       "    </tr>\n",
       "  </tbody>\n",
       "</table>\n",
       "</div>"
      ],
      "text/plain": [
       "                     Model\n",
       "Score                     \n",
       "96.30        Random Forest\n",
       "96.30        Decision Tree\n",
       "82.15                  KNN\n",
       "79.91  Logistic Regression\n",
       "79.35          Naive Bayes"
      ]
     },
     "execution_count": 21,
     "metadata": {},
     "output_type": "execute_result"
    }
   ],
   "source": [
    "results = pd.DataFrame({\n",
    "    'Model': ['KNN', 'Logistic Regression', \n",
    "              'Random Forest', 'Naive Bayes',\n",
    "              'Decision Tree'],\n",
    "    'Score': [acc_knn, acc_log, acc_random_forest, acc_gaussian, acc_decision_tree]})\n",
    "result_df = results.sort_values(by='Score', ascending=False)\n",
    "result_df = result_df.set_index('Score')\n",
    "result_df.head()"
   ]
  },
  {
   "cell_type": "code",
   "execution_count": 22,
   "id": "9540541d",
   "metadata": {
    "execution": {
     "iopub.execute_input": "2022-01-17T02:29:44.316717Z",
     "iopub.status.busy": "2022-01-17T02:29:44.316043Z",
     "iopub.status.idle": "2022-01-17T02:29:46.598238Z",
     "shell.execute_reply": "2022-01-17T02:29:46.598894Z",
     "shell.execute_reply.started": "2022-01-17T02:28:53.606334Z"
    },
    "papermill": {
     "duration": 2.316987,
     "end_time": "2022-01-17T02:29:46.599101",
     "exception": false,
     "start_time": "2022-01-17T02:29:44.282114",
     "status": "completed"
    },
    "tags": []
   },
   "outputs": [
    {
     "name": "stdout",
     "output_type": "stream",
     "text": [
      "Scores: [0.68888889 0.74157303 0.73033708 0.80898876 0.86516854 0.80898876\n",
      " 0.80898876 0.7752809  0.78651685 0.80898876]\n",
      "Mean: 0.7823720349563047\n",
      "Standard Deviation: 0.04782030919989158\n"
     ]
    }
   ],
   "source": [
    "from sklearn.model_selection import cross_val_score\n",
    "rf = RandomForestClassifier(n_estimators=100)\n",
    "scores = cross_val_score(rf, X_train, Y_train, cv=10, scoring = \"accuracy\")\n",
    "print(\"Scores:\", scores)\n",
    "print(\"Mean:\", scores.mean())\n",
    "print(\"Standard Deviation:\", scores.std())"
   ]
  },
  {
   "cell_type": "code",
   "execution_count": 23,
   "id": "ade5f303",
   "metadata": {
    "execution": {
     "iopub.execute_input": "2022-01-17T02:29:46.660321Z",
     "iopub.status.busy": "2022-01-17T02:29:46.659648Z",
     "iopub.status.idle": "2022-01-17T02:29:46.999425Z",
     "shell.execute_reply": "2022-01-17T02:29:46.999900Z",
     "shell.execute_reply.started": "2022-01-17T02:28:56.025375Z"
    },
    "papermill": {
     "duration": 0.371401,
     "end_time": "2022-01-17T02:29:47.000092",
     "exception": false,
     "start_time": "2022-01-17T02:29:46.628691",
     "status": "completed"
    },
    "tags": []
   },
   "outputs": [
    {
     "data": {
      "text/plain": [
       "0.9629629629629629"
      ]
     },
     "execution_count": 23,
     "metadata": {},
     "output_type": "execute_result"
    }
   ],
   "source": [
    "random_forest = RandomForestClassifier(criterion = \"entropy\", min_samples_leaf = 1, min_samples_split = 2, max_features='auto', \n",
    "                                    oob_score=True, random_state=10)\n",
    "\n",
    "random_forest.fit(X_train, Y_train)\n",
    "Y_prediction = random_forest.predict(X_test)\n",
    "\n",
    "random_forest.score(X_train, Y_train)"
   ]
  },
  {
   "cell_type": "code",
   "execution_count": 24,
   "id": "a037da5a",
   "metadata": {
    "execution": {
     "iopub.execute_input": "2022-01-17T02:29:47.063912Z",
     "iopub.status.busy": "2022-01-17T02:29:47.063267Z",
     "iopub.status.idle": "2022-01-17T02:29:47.083595Z",
     "shell.execute_reply": "2022-01-17T02:29:47.083084Z",
     "shell.execute_reply.started": "2022-01-17T02:28:56.384966Z"
    },
    "papermill": {
     "duration": 0.05344,
     "end_time": "2022-01-17T02:29:47.083724",
     "exception": false,
     "start_time": "2022-01-17T02:29:47.030284",
     "status": "completed"
    },
    "tags": []
   },
   "outputs": [],
   "source": [
    "predictions = random_forest.predict(X_test)"
   ]
  },
  {
   "cell_type": "code",
   "execution_count": 25,
   "id": "394c9b34",
   "metadata": {
    "execution": {
     "iopub.execute_input": "2022-01-17T02:29:47.144891Z",
     "iopub.status.busy": "2022-01-17T02:29:47.144285Z",
     "iopub.status.idle": "2022-01-17T02:29:47.353239Z",
     "shell.execute_reply": "2022-01-17T02:29:47.353688Z",
     "shell.execute_reply.started": "2022-01-17T02:28:56.414868Z"
    },
    "papermill": {
     "duration": 0.240998,
     "end_time": "2022-01-17T02:29:47.353881",
     "exception": false,
     "start_time": "2022-01-17T02:29:47.112883",
     "status": "completed"
    },
    "tags": []
   },
   "outputs": [
    {
     "data": {
      "image/png": "[encoded data removed]",
      "text/plain": [
       "<Figure size 1008x504 with 1 Axes>"
      ]
     },
     "metadata": {
      "needs_background": "light"
     },
     "output_type": "display_data"
    }
   ],
   "source": [
    "from sklearn.metrics import roc_curve\n",
    "\n",
    "y_scores = random_forest.predict_proba(X_train)\n",
    "y_scores = y_scores[:,1]\n",
    "false_positive_rate, true_positive_rate, thresholds = roc_curve(Y_train, y_scores)\n",
    "def plot_roc_curve(false_positive_rate, true_positive_rate, label=None):\n",
    "    plt.plot(false_positive_rate, true_positive_rate, linewidth=2, label=label)\n",
    "    plt.plot([0, 1], [0, 1], 'r', linewidth=4)\n",
    "    plt.axis([0, 1, 0, 1])\n",
    "    plt.xlabel('False Positive Rate (FPR)', fontsize=16)\n",
    "    plt.ylabel('True Positive Rate (TPR)', fontsize=16)\n",
    "\n",
    "plt.figure(figsize=(14, 7))\n",
    "plot_roc_curve(false_positive_rate, true_positive_rate)\n",
    "plt.show()"
   ]
  },
  {
   "cell_type": "code",
   "execution_count": 26,
   "id": "d828dbac",
   "metadata": {
    "execution": {
     "iopub.execute_input": "2022-01-17T02:29:47.417759Z",
     "iopub.status.busy": "2022-01-17T02:29:47.417191Z",
     "iopub.status.idle": "2022-01-17T02:29:47.423889Z",
     "shell.execute_reply": "2022-01-17T02:29:47.424446Z",
     "shell.execute_reply.started": "2022-01-17T02:28:56.664483Z"
    },
    "papermill": {
     "duration": 0.040113,
     "end_time": "2022-01-17T02:29:47.424597",
     "exception": false,
     "start_time": "2022-01-17T02:29:47.384484",
     "status": "completed"
    },
    "tags": []
   },
   "outputs": [
    {
     "name": "stdout",
     "output_type": "stream",
     "text": [
      "ROC-AUC-Score: 0.9952518667646653\n"
     ]
    }
   ],
   "source": [
    "from sklearn.metrics import roc_auc_score\n",
    "r_a_score = roc_auc_score(Y_train, y_scores)\n",
    "print(\"ROC-AUC-Score:\", r_a_score)"
   ]
  },
  {
   "cell_type": "code",
   "execution_count": 27,
   "id": "f1b2ee10",
   "metadata": {
    "execution": {
     "iopub.execute_input": "2022-01-17T02:29:47.488190Z",
     "iopub.status.busy": "2022-01-17T02:29:47.487563Z",
     "iopub.status.idle": "2022-01-17T02:29:47.506641Z",
     "shell.execute_reply": "2022-01-17T02:29:47.507099Z",
     "shell.execute_reply.started": "2022-01-17T02:28:56.674252Z"
    },
    "papermill": {
     "duration": 0.052771,
     "end_time": "2022-01-17T02:29:47.507252",
     "exception": false,
     "start_time": "2022-01-17T02:29:47.454481",
     "status": "completed"
    },
    "tags": []
   },
   "outputs": [
    {
     "data": {
      "text/html": [
       "<div>\n",
       "<style scoped>\n",
       "    .dataframe tbody tr th:only-of-type {\n",
       "        vertical-align: middle;\n",
       "    }\n",
       "\n",
       "    .dataframe tbody tr th {\n",
       "        vertical-align: top;\n",
       "    }\n",
       "\n",
       "    .dataframe thead th {\n",
       "        text-align: right;\n",
       "    }\n",
       "</style>\n",
       "<table border=\"1\" class=\"dataframe\">\n",
       "  <thead>\n",
       "    <tr style=\"text-align: right;\">\n",
       "      <th></th>\n",
       "      <th>PassengerId</th>\n",
       "      <th>Survived</th>\n",
       "    </tr>\n",
       "  </thead>\n",
       "  <tbody>\n",
       "    <tr>\n",
       "      <th>0</th>\n",
       "      <td>892</td>\n",
       "      <td>0</td>\n",
       "    </tr>\n",
       "    <tr>\n",
       "      <th>1</th>\n",
       "      <td>893</td>\n",
       "      <td>0</td>\n",
       "    </tr>\n",
       "    <tr>\n",
       "      <th>2</th>\n",
       "      <td>894</td>\n",
       "      <td>0</td>\n",
       "    </tr>\n",
       "    <tr>\n",
       "      <th>3</th>\n",
       "      <td>895</td>\n",
       "      <td>0</td>\n",
       "    </tr>\n",
       "    <tr>\n",
       "      <th>4</th>\n",
       "      <td>896</td>\n",
       "      <td>1</td>\n",
       "    </tr>\n",
       "    <tr>\n",
       "      <th>...</th>\n",
       "      <td>...</td>\n",
       "      <td>...</td>\n",
       "    </tr>\n",
       "    <tr>\n",
       "      <th>413</th>\n",
       "      <td>1305</td>\n",
       "      <td>0</td>\n",
       "    </tr>\n",
       "    <tr>\n",
       "      <th>414</th>\n",
       "      <td>1306</td>\n",
       "      <td>1</td>\n",
       "    </tr>\n",
       "    <tr>\n",
       "      <th>415</th>\n",
       "      <td>1307</td>\n",
       "      <td>0</td>\n",
       "    </tr>\n",
       "    <tr>\n",
       "      <th>416</th>\n",
       "      <td>1308</td>\n",
       "      <td>0</td>\n",
       "    </tr>\n",
       "    <tr>\n",
       "      <th>417</th>\n",
       "      <td>1309</td>\n",
       "      <td>0</td>\n",
       "    </tr>\n",
       "  </tbody>\n",
       "</table>\n",
       "<p>418 rows × 2 columns</p>\n",
       "</div>"
      ],
      "text/plain": [
       "     PassengerId  Survived\n",
       "0            892         0\n",
       "1            893         0\n",
       "2            894         0\n",
       "3            895         0\n",
       "4            896         1\n",
       "..           ...       ...\n",
       "413         1305         0\n",
       "414         1306         1\n",
       "415         1307         0\n",
       "416         1308         0\n",
       "417         1309         0\n",
       "\n",
       "[418 rows x 2 columns]"
      ]
     },
     "execution_count": 27,
     "metadata": {},
     "output_type": "execute_result"
    }
   ],
   "source": [
    "gender_submission=pd.read_csv(\"../input/titanic/gender_submission.csv\")\n",
    "output = pd.DataFrame({'PassengerId': gender_submission.PassengerId, 'Survived': predictions})\n",
    "output"
   ]
  },
  {
   "cell_type": "code",
   "execution_count": 28,
   "id": "4d135229",
   "metadata": {
    "execution": {
     "iopub.execute_input": "2022-01-17T02:29:47.573511Z",
     "iopub.status.busy": "2022-01-17T02:29:47.572930Z",
     "iopub.status.idle": "2022-01-17T02:29:47.581785Z",
     "shell.execute_reply": "2022-01-17T02:29:47.581268Z",
     "shell.execute_reply.started": "2022-01-17T02:28:56.702543Z"
    },
    "papermill": {
     "duration": 0.042716,
     "end_time": "2022-01-17T02:29:47.581945",
     "exception": false,
     "start_time": "2022-01-17T02:29:47.539229",
     "status": "completed"
    },
    "tags": []
   },
   "outputs": [
    {
     "name": "stdout",
     "output_type": "stream",
     "text": [
      "Your submission was successfully saved!\n"
     ]
    }
   ],
   "source": [
    "output.to_csv('submission.csv', index=False)\n",
    "print(\"Your submission was successfully saved!\")"
   ]
  },
  {
   "cell_type": "code",
   "execution_count": 29,
   "id": "fc7368ac",
   "metadata": {
    "execution": {
     "iopub.execute_input": "2022-01-17T02:29:47.650410Z",
     "iopub.status.busy": "2022-01-17T02:29:47.649410Z",
     "iopub.status.idle": "2022-01-17T02:29:47.659417Z",
     "shell.execute_reply": "2022-01-17T02:29:47.660013Z",
     "shell.execute_reply.started": "2022-01-17T02:28:56.716967Z"
    },
    "papermill": {
     "duration": 0.045689,
     "end_time": "2022-01-17T02:29:47.660174",
     "exception": false,
     "start_time": "2022-01-17T02:29:47.614485",
     "status": "completed"
    },
    "tags": []
   },
   "outputs": [
    {
     "data": {
      "text/html": [
       "<div>\n",
       "<style scoped>\n",
       "    .dataframe tbody tr th:only-of-type {\n",
       "        vertical-align: middle;\n",
       "    }\n",
       "\n",
       "    .dataframe tbody tr th {\n",
       "        vertical-align: top;\n",
       "    }\n",
       "\n",
       "    .dataframe thead th {\n",
       "        text-align: right;\n",
       "    }\n",
       "</style>\n",
       "<table border=\"1\" class=\"dataframe\">\n",
       "  <thead>\n",
       "    <tr style=\"text-align: right;\">\n",
       "      <th></th>\n",
       "      <th>PassengerId</th>\n",
       "      <th>Survived</th>\n",
       "    </tr>\n",
       "  </thead>\n",
       "  <tbody>\n",
       "    <tr>\n",
       "      <th>0</th>\n",
       "      <td>892</td>\n",
       "      <td>0</td>\n",
       "    </tr>\n",
       "    <tr>\n",
       "      <th>1</th>\n",
       "      <td>893</td>\n",
       "      <td>0</td>\n",
       "    </tr>\n",
       "    <tr>\n",
       "      <th>2</th>\n",
       "      <td>894</td>\n",
       "      <td>0</td>\n",
       "    </tr>\n",
       "    <tr>\n",
       "      <th>3</th>\n",
       "      <td>895</td>\n",
       "      <td>0</td>\n",
       "    </tr>\n",
       "    <tr>\n",
       "      <th>4</th>\n",
       "      <td>896</td>\n",
       "      <td>1</td>\n",
       "    </tr>\n",
       "  </tbody>\n",
       "</table>\n",
       "</div>"
      ],
      "text/plain": [
       "   PassengerId  Survived\n",
       "0          892         0\n",
       "1          893         0\n",
       "2          894         0\n",
       "3          895         0\n",
       "4          896         1"
      ]
     },
     "execution_count": 29,
     "metadata": {},
     "output_type": "execute_result"
    }
   ],
   "source": [
    "result = pd.read_csv(\"./submission.csv\")\n",
    "result.head()"
   ]
  },
  {
   "cell_type": "code",
   "execution_count": null,
   "id": "36f05034",
   "metadata": {
    "papermill": {
     "duration": 0.032065,
     "end_time": "2022-01-17T02:29:47.724196",
     "exception": false,
     "start_time": "2022-01-17T02:29:47.692131",
     "status": "completed"
    },
    "tags": []
   },
   "outputs": [],
   "source": []
  }
 ],
 "metadata": {
  "kernelspec": {
   "display_name": "Python 3",
   "language": "python",
   "name": "python3"
  },
  "language_info": {
   "codemirror_mode": {
    "name": "ipython",
    "version": 3
   },
   "file_extension": ".py",
   "mimetype": "text/x-python",
   "name": "python",
   "nbconvert_exporter": "python",
   "pygments_lexer": "ipython3",
   "version": "3.7.12"
  },
  "papermill": {
   "default_parameters": {},
   "duration": 18.678586,
   "end_time": "2022-01-17T02:29:48.466303",
   "environment_variables": {},
   "exception": null,
   "input_path": "__notebook__.ipynb",
   "output_path": "__notebook__.ipynb",
   "parameters": {},
   "start_time": "2022-01-17T02:29:29.787717",
   "version": "2.3.3"
  }
 },
 "nbformat": 4,
 "nbformat_minor": 5
}
